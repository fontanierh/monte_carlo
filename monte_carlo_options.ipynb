{
  "nbformat": 4,
  "nbformat_minor": 0,
  "metadata": {
    "colab": {
      "name": "monte_carlo_options.ipynb",
      "version": "0.3.2",
      "views": {},
      "default_view": {},
      "provenance": []
    }
  },
  "cells": [
    {
      "metadata": {
        "id": "3WrP-zG6slA7",
        "colab_type": "text"
      },
      "cell_type": "markdown",
      "source": [
        "# Monte Carlo Options\n",
        "\n",
        " This is an attempt at pricing Call options using a Monte Carlo simulation and the Black Scholes Formula"
      ]
    },
    {
      "metadata": {
        "id": "Bc0nIKIBs3rr",
        "colab_type": "text"
      },
      "cell_type": "markdown",
      "source": [
        "## Import some libraries"
      ]
    },
    {
      "metadata": {
        "id": "PK4oxF6Ojims",
        "colab_type": "code",
        "colab": {
          "autoexec": {
            "startup": false,
            "wait_interval": 0
          }
        }
      },
      "cell_type": "code",
      "source": [
        "# standard data science toolkit\n",
        "import pandas as pd\n",
        "import numpy as np\n",
        "import matplotlib.pyplot as plt\n",
        "\n",
        "from datetime import datetime\n",
        "from math import sqrt, exp\n",
        "\n",
        "# useful to properly order columns in pandas DataFrame\n",
        "from collections import OrderedDict"
      ],
      "execution_count": 0,
      "outputs": []
    },
    {
      "metadata": {
        "id": "8OIUCIGbjttd",
        "colab_type": "code",
        "colab": {
          "autoexec": {
            "startup": false,
            "wait_interval": 0
          }
        }
      },
      "cell_type": "code",
      "source": [
        "# some visualization boilerplate\n",
        "pd.options.display.max_rows = 10\n",
        "pd.options.display.max_columns = 10\n",
        "pd.options.display.float_format = '{:.4f}'.format\n",
        "pd.options.mode.chained_assignment = None "
      ],
      "execution_count": 0,
      "outputs": []
    },
    {
      "metadata": {
        "id": "45X8fquBjuWD",
        "colab_type": "code",
        "colab": {
          "autoexec": {
            "startup": false,
            "wait_interval": 0
          },
          "output_extras": [
            {
              "item_id": 2
            }
          ],
          "base_uri": "https://localhost:8080/",
          "height": 272
        },
        "outputId": "18dfa8b5-cb04-4f66-b3a8-9c42046639db",
        "executionInfo": {
          "status": "ok",
          "timestamp": 1521051117035,
          "user_tz": -60,
          "elapsed": 2401,
          "user": {
            "displayName": "Henry Fontanier",
            "photoUrl": "//lh5.googleusercontent.com/-mebx1k25_ag/AAAAAAAAAAI/AAAAAAAAALY/O0LpimyAWcg/s50-c-k-no/photo.jpg",
            "userId": "116773589418129081847"
          }
        }
      },
      "cell_type": "code",
      "source": [
        "# install Google Finance library\n",
        "!pip install googlefinance.client"
      ],
      "execution_count": 50,
      "outputs": [
        {
          "output_type": "stream",
          "text": [
            "Requirement already satisfied: googlefinance.client in /usr/local/lib/python2.7/dist-packages\r\n",
            "Requirement already satisfied: requests in /usr/local/lib/python2.7/dist-packages (from googlefinance.client)\n",
            "Requirement already satisfied: datetime in /usr/local/lib/python2.7/dist-packages (from googlefinance.client)\n",
            "Requirement already satisfied: pandas in /usr/local/lib/python2.7/dist-packages (from googlefinance.client)\n",
            "Requirement already satisfied: idna<2.7,>=2.5 in /usr/local/lib/python2.7/dist-packages (from requests->googlefinance.client)\n",
            "Requirement already satisfied: urllib3<1.23,>=1.21.1 in /usr/local/lib/python2.7/dist-packages (from requests->googlefinance.client)\n",
            "Requirement already satisfied: certifi>=2017.4.17 in /usr/local/lib/python2.7/dist-packages (from requests->googlefinance.client)\n",
            "Requirement already satisfied: chardet<3.1.0,>=3.0.2 in /usr/local/lib/python2.7/dist-packages (from requests->googlefinance.client)\n",
            "Requirement already satisfied: pytz in /usr/local/lib/python2.7/dist-packages (from datetime->googlefinance.client)\n",
            "Requirement already satisfied: zope.interface in /usr/local/lib/python2.7/dist-packages (from datetime->googlefinance.client)\n",
            "Requirement already satisfied: python-dateutil in /usr/local/lib/python2.7/dist-packages (from pandas->googlefinance.client)\n",
            "Requirement already satisfied: numpy>=1.9.0 in /usr/local/lib/python2.7/dist-packages (from pandas->googlefinance.client)\n",
            "Requirement already satisfied: setuptools in /usr/lib/python2.7/dist-packages (from zope.interface->datetime->googlefinance.client)\n",
            "Requirement already satisfied: six>=1.5 in /usr/local/lib/python2.7/dist-packages (from python-dateutil->pandas->googlefinance.client)\n"
          ],
          "name": "stdout"
        }
      ]
    },
    {
      "metadata": {
        "id": "rdEsw0o3jyVz",
        "colab_type": "code",
        "colab": {
          "autoexec": {
            "startup": false,
            "wait_interval": 0
          }
        }
      },
      "cell_type": "code",
      "source": [
        "# function from the Google Finance lib that allows us to retrieve stock prices\n",
        "from googlefinance.client import get_price_data"
      ],
      "execution_count": 0,
      "outputs": []
    },
    {
      "metadata": {
        "id": "aAUqzhzOtvfj",
        "colab_type": "text"
      },
      "cell_type": "markdown",
      "source": [
        "## Set constants\n",
        "\n",
        "Here, we'll set the annual risk free rate as a constant"
      ]
    },
    {
      "metadata": {
        "id": "mDeyVWgbnWeV",
        "colab_type": "code",
        "colab": {
          "autoexec": {
            "startup": false,
            "wait_interval": 0
          }
        }
      },
      "cell_type": "code",
      "source": [
        "RISK_FREE_RATE = 1.17 / 100 # found somewhere on the internet"
      ],
      "execution_count": 0,
      "outputs": []
    },
    {
      "metadata": {
        "id": "dBSXUeyOuDtQ",
        "colab_type": "text"
      },
      "cell_type": "markdown",
      "source": [
        "## Retrieve stock data\n",
        "We'll do this using the Google Finance get_price_data A.P.I"
      ]
    },
    {
      "metadata": {
        "id": "c_2xAz5Tjy4q",
        "colab_type": "code",
        "colab": {
          "autoexec": {
            "startup": false,
            "wait_interval": 0
          },
          "output_extras": [
            {
              "item_id": 1
            },
            {
              "item_id": 2
            }
          ],
          "base_uri": "https://localhost:8080/",
          "height": 212
        },
        "outputId": "1def91b7-8503-4d5f-8095-d3ea44e844dc",
        "executionInfo": {
          "status": "ok",
          "timestamp": 1521051642506,
          "user_tz": -60,
          "elapsed": 557,
          "user": {
            "displayName": "Henry Fontanier",
            "photoUrl": "//lh5.googleusercontent.com/-mebx1k25_ag/AAAAAAAAAAI/AAAAAAAAALY/O0LpimyAWcg/s50-c-k-no/photo.jpg",
            "userId": "116773589418129081847"
          }
        }
      },
      "cell_type": "code",
      "source": [
        "def get_stock(symbol, exchange):\n",
        "  '''\n",
        "  inputs:\n",
        "    symbol: str, representing the symbol of the stock (ex: 'GOOG')\n",
        "    exchange: str, representing the exchange on which the stock is traded (ex: 'NASDAQ')\n",
        "  output:\n",
        "    stock Pandas DataFrame with columns 'Close' and 'Returns'\n",
        "  '''\n",
        "  stock = get_price_data({\n",
        "    'q': symbol,\n",
        "    'i': \"86400\", # Interval size in seconds (\"86400\" = 1 day intervals)\n",
        "    'x': exchange,\n",
        "    'p': \"1Y\" # Period (Ex: \"1Y\" = 1 year)  \n",
        "  })[['Close']]\n",
        "  stock['Returns'] = stock['Close'].pct_change()\n",
        "  return stock\n",
        "\n",
        "def get_stock_annualized_volatility(stock):\n",
        "  '''\n",
        "  inputs:\n",
        "    stock: stock DataFrame\n",
        "  returns:\n",
        "    float representing stock annualized volatility\n",
        "  '''\n",
        "  return stock['Returns'].std() * sqrt(252)\n",
        "\n",
        "# little example of the usage of the 2 functions above\n",
        "goog = get_stock('GOOG', 'NASDAQ')\n",
        "vol = get_stock_annualized_volatility(goog)\n",
        "\n",
        "print(\"Annualized volatility:\", vol)\n",
        "goog.head()"
      ],
      "execution_count": 51,
      "outputs": [
        {
          "output_type": "stream",
          "text": [
            "('Annualized volatility:', 0.19461809848158695)\n"
          ],
          "name": "stdout"
        },
        {
          "output_type": "execute_result",
          "data": {
            "text/html": [
              "<div>\n",
              "<style scoped>\n",
              "    .dataframe tbody tr th:only-of-type {\n",
              "        vertical-align: middle;\n",
              "    }\n",
              "\n",
              "    .dataframe tbody tr th {\n",
              "        vertical-align: top;\n",
              "    }\n",
              "\n",
              "    .dataframe thead th {\n",
              "        text-align: right;\n",
              "    }\n",
              "</style>\n",
              "<table border=\"1\" class=\"dataframe\">\n",
              "  <thead>\n",
              "    <tr style=\"text-align: right;\">\n",
              "      <th></th>\n",
              "      <th>Close</th>\n",
              "      <th>Returns</th>\n",
              "    </tr>\n",
              "  </thead>\n",
              "  <tbody>\n",
              "    <tr>\n",
              "      <th>2017-03-14 20:00:00</th>\n",
              "      <td>845.6200</td>\n",
              "      <td>nan</td>\n",
              "    </tr>\n",
              "    <tr>\n",
              "      <th>2017-03-15 20:00:00</th>\n",
              "      <td>847.2000</td>\n",
              "      <td>0.0019</td>\n",
              "    </tr>\n",
              "    <tr>\n",
              "      <th>2017-03-16 20:00:00</th>\n",
              "      <td>848.7800</td>\n",
              "      <td>0.0019</td>\n",
              "    </tr>\n",
              "    <tr>\n",
              "      <th>2017-03-17 20:00:00</th>\n",
              "      <td>852.1200</td>\n",
              "      <td>0.0039</td>\n",
              "    </tr>\n",
              "    <tr>\n",
              "      <th>2017-03-20 20:00:00</th>\n",
              "      <td>848.4000</td>\n",
              "      <td>-0.0044</td>\n",
              "    </tr>\n",
              "  </tbody>\n",
              "</table>\n",
              "</div>"
            ],
            "text/plain": [
              "                       Close  Returns\n",
              "2017-03-14 20:00:00 845.6200      nan\n",
              "2017-03-15 20:00:00 847.2000   0.0019\n",
              "2017-03-16 20:00:00 848.7800   0.0019\n",
              "2017-03-17 20:00:00 852.1200   0.0039\n",
              "2017-03-20 20:00:00 848.4000  -0.0044"
            ]
          },
          "metadata": {
            "tags": []
          },
          "execution_count": 51
        }
      ]
    },
    {
      "metadata": {
        "id": "UB_kpg8DvrKT",
        "colab_type": "text"
      },
      "cell_type": "markdown",
      "source": [
        "## Now let's dive into the Monte Carlo simulation\n",
        "We'll use the Black Scholes formula to simulate the stock value after a certain period"
      ]
    },
    {
      "metadata": {
        "id": "CVirNEvilJkL",
        "colab_type": "code",
        "colab": {
          "autoexec": {
            "startup": false,
            "wait_interval": 0
          }
        }
      },
      "cell_type": "code",
      "source": [
        "def black_scholes(S, r, sig, Tmt, n):\n",
        "  '''\n",
        "  inputs:\n",
        "    S: float, the underlying stock price\n",
        "    r: float, the annualized risk free rate\n",
        "    sig: float, the annualized volatility of the underlying stock\n",
        "    Tmt: float, \"T minus t\" meaning the remaining time before the expiry date,\n",
        "      expressed as a % of the year\n",
        "    n: number of outcomes to simulate\n",
        "   output:\n",
        "    numpy.array of shape (n,) containing the n simulations\n",
        "  \n",
        "  '''\n",
        "  return (S * np.exp((r - 0.5 * sig**2) * Tmt + sig * sqrt(Tmt) * \n",
        "                     np.random.standard_normal(n)))"
      ],
      "execution_count": 0,
      "outputs": []
    },
    {
      "metadata": {
        "id": "6V-Vxlsjxida",
        "colab_type": "code",
        "colab": {
          "autoexec": {
            "startup": false,
            "wait_interval": 0
          }
        }
      },
      "cell_type": "code",
      "source": [
        "def simulate(\n",
        "    stock_price, volatility,\n",
        "    end_date, risk_free_rate,\n",
        "    strike_price, nb_simulations):\n",
        "  '''\n",
        "  inputs:\n",
        "    stock_price: float representing the underlying price\n",
        "    volatility: annualized stock volatility\n",
        "    end_date: datetime representing expiry date (format: '2018-03-14')\n",
        "    risk_free_rate: float representing risk free interest rate to discount by\n",
        "    strike_price: float representing the price of the strike\n",
        "    nb_simulation: integer representing the number of simulations to run\n",
        "  \n",
        "  output:\n",
        "    simulation pd.DataFrame with columns 'Asset price', 'Payoff' and \n",
        "      'Discounted payoff'\n",
        "  '''\n",
        "  remaining_time = (datetime.strptime(end_date, '%Y-%m-%d') - \n",
        "                    datetime.now()).days / 365.0\n",
        "  discount_factor = exp(-risk_free_rate * remaining_time)\n",
        "  simulated_prices = black_scholes(stock_price, risk_free_rate, \n",
        "                                   volatility, remaining_time, nb_simulations)\n",
        "  payoffs = (simulated_prices - strike_price).clip(0)\n",
        "  discounted_payoffs = payoffs * discount_factor\n",
        "  return pd.DataFrame(OrderedDict([\n",
        "    ('Asset price', simulated_prices),\n",
        "    ('Payoff', payoffs),\n",
        "    ('Discounted payoff', discounted_payoffs)\n",
        "  ]))"
      ],
      "execution_count": 0,
      "outputs": []
    },
    {
      "metadata": {
        "id": "gBO-KuHZxk24",
        "colab_type": "text"
      },
      "cell_type": "markdown",
      "source": [
        "We can now automatically retrieve historical data for a stock, compute its volatility and run simulations for a given strike price and expiry date.\n",
        "\n",
        "By averaging the discounted payoff, I can get a price estimate for the Call option."
      ]
    },
    {
      "metadata": {
        "id": "yjTq7DvWw6hk",
        "colab_type": "code",
        "colab": {
          "autoexec": {
            "startup": false,
            "wait_interval": 0
          }
        }
      },
      "cell_type": "code",
      "source": [
        "def price_option(symbol, exchange, end_date, strike_price, nb_simulations):\n",
        "  stock = get_stock(symbol, exchange)\n",
        "  S = stock['Close'][-1]\n",
        "  vol = get_stock_annualized_volatility(stock)\n",
        "  simulation = simulate(S, vol, end_date, RISK_FREE_RATE, \n",
        "                        strike_price, nb_simulations)\n",
        "  return simulation['Discounted payoff'].mean()"
      ],
      "execution_count": 0,
      "outputs": []
    },
    {
      "metadata": {
        "id": "m_VGpONByWAD",
        "colab_type": "text"
      },
      "cell_type": "markdown",
      "source": [
        "## Let's try it out\n",
        "\n",
        "I found on Yahoo Finance an option for Apple expiring on April 13th 2018 with a strike price of 135 valued at 48.3.\n",
        "\n",
        "I can run a million simulations to try and find out if the option is over-priced or under-priced."
      ]
    },
    {
      "metadata": {
        "id": "jUjMEQyfx18U",
        "colab_type": "code",
        "colab": {
          "autoexec": {
            "startup": false,
            "wait_interval": 0
          },
          "output_extras": [
            {
              "item_id": 1
            }
          ],
          "base_uri": "https://localhost:8080/",
          "height": 84
        },
        "outputId": "5ae03f8b-1264-4ec2-f6ea-aef6baec95a7",
        "executionInfo": {
          "status": "ok",
          "timestamp": 1521053135693,
          "user_tz": -60,
          "elapsed": 478,
          "user": {
            "displayName": "Henry Fontanier",
            "photoUrl": "//lh5.googleusercontent.com/-mebx1k25_ag/AAAAAAAAAAI/AAAAAAAAALY/O0LpimyAWcg/s50-c-k-no/photo.jpg",
            "userId": "116773589418129081847"
          }
        }
      },
      "cell_type": "code",
      "source": [
        "symbol = 'AAPL'\n",
        "exchange = 'NASDAQ'\n",
        "expiry_date = '2018-04-13'\n",
        "strike_price = 135\n",
        "\n",
        "nb_simulations = 1000000\n",
        "\n",
        "estimated_price = price_option(symbol, exchange, expiry_date, \n",
        "                               strike_price, nb_simulations)\n",
        "\n",
        "print(\"Underlying Stock:\", symbol)\n",
        "print(\"Option expiry date:\", expiry_date)\n",
        "print(\"Option strike price:\", strike_price)\n",
        "print(\"Estimated price:\", estimated_price)"
      ],
      "execution_count": 64,
      "outputs": [
        {
          "output_type": "stream",
          "text": [
            "('Underlying Stock:', 'AAPL')\n",
            "('Option expiry date:', '2018-04-13')\n",
            "('Option strike price:', 135)\n",
            "('Estimated price:', 45.085469518351616)\n"
          ],
          "name": "stdout"
        }
      ]
    }
  ]
}